{
 "cells": [
  {
   "cell_type": "code",
   "execution_count": 31,
   "metadata": {},
   "outputs": [],
   "source": [
    "import pandas as pd\n",
    "import numpy as np\n",
    "from sklearn.neighbors import NearestNeighbors\n",
    "from sklearn.cluster import KMeans\n",
    "from sklearn.svm import SVC # \"Support vector classifier\""
   ]
  },
  {
   "cell_type": "code",
   "execution_count": 32,
   "metadata": {},
   "outputs": [],
   "source": [
    "# Method to load .csv files \n",
    "def load_data(filename):\n",
    "    # Load data from CSV file\n",
    "    data = pd.read_csv(filename)\n",
    "    return data"
   ]
  },
  {
   "cell_type": "markdown",
   "metadata": {},
   "source": [
    "# Data Cleaning"
   ]
  },
  {
   "cell_type": "code",
   "execution_count": 33,
   "metadata": {},
   "outputs": [
    {
     "name": "stderr",
     "output_type": "stream",
     "text": [
      "C:\\Users\\omend\\AppData\\Local\\Temp\\ipykernel_38444\\12989277.py:4: DtypeWarning: Columns (7,8,18,25) have mixed types. Specify dtype option on import or set low_memory=False.\n",
      "  data = pd.read_csv(filename)\n"
     ]
    }
   ],
   "source": [
    "summary_weather = load_data(\"Summary of Weather.csv\")\n",
    "weather_stations = load_data(\"Weather Station Locations.csv\")\n",
    "weather_aus = load_data(\"weatherAUS.csv\")"
   ]
  },
  {
   "cell_type": "markdown",
   "metadata": {},
   "source": [
    "### \"Summary of Weather.csv\" cleaning"
   ]
  },
  {
   "cell_type": "code",
   "execution_count": 34,
   "metadata": {},
   "outputs": [
    {
     "name": "stdout",
     "output_type": "stream",
     "text": [
      "Column Precip contains non-numeric values.\n",
      "Column Snowfall contains non-numeric values.\n",
      "Column PoorWeather contains non-numeric values.\n",
      "Column PRCP contains non-numeric values.\n",
      "Column SNF contains non-numeric values.\n",
      "Column TSHDSBRSGF contains non-numeric values.\n"
     ]
    }
   ],
   "source": [
    "# Fixing the Summary of Weather.csv\n",
    "summary_weather['Date'] = pd.to_datetime(summary_weather['Date'], errors='coerce')\n",
    "\n",
    "# Check for columns that contain mixed types by trying to convert all columns to float and catching exceptions\n",
    "for column in summary_weather.columns:\n",
    "    try:\n",
    "        if(column != \"Date\"):\n",
    "            summary_weather[column] = summary_weather[column].astype(float)\n",
    "\n",
    "    except ValueError:\n",
    "        print(f\"Column {column} contains non-numeric values.\")\n",
    "\n"
   ]
  },
  {
   "cell_type": "code",
   "execution_count": 35,
   "metadata": {},
   "outputs": [],
   "source": [
    "# Fixing/removing columns\n",
    "\n",
    "# Precip column, replace 'T' with 0 values\n",
    "summary_weather['Precip'] = summary_weather['Precip'].replace('T', 0)\n",
    "# PoorWeather replace empty slots with 0\n",
    "summary_weather = summary_weather.drop('PoorWeather', axis=1)\n",
    "# PRCP replace 'T' with 0 values\n",
    "summary_weather['PRCP'] = summary_weather['PRCP'].replace('T', 0)\n",
    "# Drop Snowfall\n",
    "summary_weather = summary_weather.drop('Snowfall', axis=1)\n",
    "# SNF drop it\n",
    "summary_weather = summary_weather.drop('SNF', axis=1)\n",
    "# TSHDSBRSGF drop it\n",
    "summary_weather = summary_weather.drop('TSHDSBRSGF', axis=1)\n",
    "# STA drop it\n",
    "summary_weather = summary_weather.drop('STA', axis=1)\n",
    "# Drop Year\n",
    "summary_weather = summary_weather.drop('YR', axis=1)\n",
    "# Drop Day\n",
    "summary_weather = summary_weather.drop('DA', axis=1)\n",
    "# drop all empty columns, axis = 1 \n",
    "summary_weather = summary_weather.dropna(axis=1, how='all')"
   ]
  },
  {
   "cell_type": "code",
   "execution_count": 36,
   "metadata": {},
   "outputs": [
    {
     "name": "stdout",
     "output_type": "stream",
     "text": [
      "CSV fixed\n"
     ]
    }
   ],
   "source": [
    "for column in summary_weather.columns:\n",
    "    try:\n",
    "        if(column != \"Date\"):\n",
    "            summary_weather[column] = summary_weather[column].astype(float)\n",
    "\n",
    "    except ValueError:\n",
    "        print(f\"Column {column} contains non-numeric values.\")\n",
    "\n",
    "print(\"CSV fixed\")"
   ]
  },
  {
   "cell_type": "markdown",
   "metadata": {},
   "source": [
    "### \"Weather Station Locations.csv\" cleaning"
   ]
  },
  {
   "cell_type": "code",
   "execution_count": 37,
   "metadata": {},
   "outputs": [
    {
     "name": "stdout",
     "output_type": "stream",
     "text": [
      "Column NAME contains non-numeric values.\n",
      "Column STATE/COUNTRY ID contains non-numeric values.\n",
      "Column LAT contains non-numeric values.\n",
      "Column LON contains non-numeric values.\n"
     ]
    }
   ],
   "source": [
    "# Check for columns that contain mixed types\n",
    "for column in weather_stations.columns:\n",
    "    try:\n",
    "        weather_stations[column] = weather_stations[column].astype(float)\n",
    "\n",
    "    except ValueError:\n",
    "        print(f\"Column {column} contains non-numeric values.\")"
   ]
  },
  {
   "cell_type": "code",
   "execution_count": 38,
   "metadata": {},
   "outputs": [],
   "source": [
    "# Removing columns that are not necessary \n",
    "\n",
    "# Removing WBAN\n",
    "weather_stations = weather_stations.drop('WBAN', axis=1)\n",
    "# Removing NAME\n",
    "weather_stations = weather_stations.drop('NAME', axis=1)\n",
    "# Removing STATE/COUNTRY\n",
    "weather_stations = weather_stations.drop('STATE/COUNTRY ID', axis=1)\n",
    "# Removing LAT\n",
    "weather_stations = weather_stations.drop('LAT', axis=1)\n",
    "# Removing LON\n",
    "weather_stations = weather_stations.drop('LON', axis=1)\n"
   ]
  },
  {
   "cell_type": "code",
   "execution_count": 39,
   "metadata": {},
   "outputs": [
    {
     "name": "stdout",
     "output_type": "stream",
     "text": [
      "CSV fixed\n"
     ]
    }
   ],
   "source": [
    "for column in weather_stations.columns:\n",
    "    try:\n",
    "        weather_stations[column] = weather_stations[column].astype(float)\n",
    "\n",
    "    except ValueError:\n",
    "        print(f\"Column {column} contains non-numeric values.\")\n",
    "        \n",
    "print(\"CSV fixed\")"
   ]
  },
  {
   "cell_type": "markdown",
   "metadata": {},
   "source": [
    "### \"weatherAUS.csv\" cleaning"
   ]
  },
  {
   "cell_type": "code",
   "execution_count": 40,
   "metadata": {},
   "outputs": [
    {
     "name": "stdout",
     "output_type": "stream",
     "text": [
      "Column Date contains non-numeric values.\n",
      "Column Location contains non-numeric values.\n",
      "Column WindGustDir contains non-numeric values.\n",
      "Column WindDir9am contains non-numeric values.\n",
      "Column WindDir3pm contains non-numeric values.\n",
      "Column RainToday contains non-numeric values.\n",
      "Column RainTomorrow contains non-numeric values.\n"
     ]
    }
   ],
   "source": [
    "# Check for columns that contain mixed types\n",
    "for column in weather_aus.columns:\n",
    "    try:\n",
    "        weather_aus[column] = weather_aus[column].astype(float)\n",
    "\n",
    "    except ValueError:\n",
    "        print(f\"Column {column} contains non-numeric values.\")"
   ]
  },
  {
   "cell_type": "code",
   "execution_count": 41,
   "metadata": {},
   "outputs": [],
   "source": [
    "# Removing columns that are not necessary \n",
    "\n",
    "# Removing Date\n",
    "weather_aus = weather_aus.drop('Date', axis=1)\n",
    "# Removing Location\n",
    "weather_aus = weather_aus.drop('Location', axis=1)\n",
    "# Removing WindGustDir\n",
    "weather_aus = weather_aus.drop('WindGustDir', axis=1)\n",
    "# Removing WindDir9am\n",
    "weather_aus = weather_aus.drop('WindDir9am', axis=1)\n",
    "# Removing WindDir3pm\n",
    "weather_aus = weather_aus.drop('WindDir3pm', axis=1)"
   ]
  },
  {
   "cell_type": "code",
   "execution_count": 42,
   "metadata": {},
   "outputs": [],
   "source": [
    "# using the RainToday and RainTomorrow as ground truths\n",
    "\n",
    "# Convert 'Yes' to 1 and 'No' to 0 for 'RainToday'\n",
    "weather_aus['RainToday'] = weather_aus['RainToday'].map({'Yes': 1, 'No': 0}).fillna(0)\n",
    "\n",
    "# Convert 'Yes' to 1 and 'No' to 0 for 'RainTomorrow'\n",
    "weather_aus['RainTomorrow'] = weather_aus['RainTomorrow'].map({'Yes': 1, 'No': 0}).fillna(0)\n",
    "\n",
    "gt_today = weather_aus['RainToday']\n",
    "gt_tomorrow = weather_aus['RainTomorrow']\n",
    "\n",
    "# List of target columns to exclude\n",
    "target_columns = ['RainToday', 'RainTomorrow']\n",
    "\n",
    "weather_aus = weather_aus.drop(columns=target_columns)"
   ]
  },
  {
   "cell_type": "code",
   "execution_count": 44,
   "metadata": {},
   "outputs": [
    {
     "name": "stdout",
     "output_type": "stream",
     "text": [
      "CSV fixed\n"
     ]
    }
   ],
   "source": [
    "for column in weather_aus.columns:\n",
    "    try:\n",
    "        weather_aus[column] = weather_aus[column].astype(float)\n",
    "\n",
    "    except ValueError:\n",
    "        print(f\"Column {column} contains non-numeric values.\")\n",
    "\n",
    "print(\"CSV fixed\")"
   ]
  },
  {
   "cell_type": "markdown",
   "metadata": {},
   "source": [
    "### Combining the CSV files into one Dataframe"
   ]
  },
  {
   "cell_type": "code",
   "execution_count": 47,
   "metadata": {},
   "outputs": [
    {
     "name": "stdout",
     "output_type": "stream",
     "text": [
      "                       Date  Precip  WindGustSpd    MaxTemp    MinTemp  \\\n",
      "0       1942-07-01 00:00:00   1.016          0.0  25.555556  22.222222   \n",
      "1       1942-07-02 00:00:00   0.000          0.0  28.888889  21.666667   \n",
      "2       1942-07-03 00:00:00   2.540          0.0  26.111111  22.222222   \n",
      "3       1942-07-04 00:00:00   2.540          0.0  26.666667  22.222222   \n",
      "4       1942-07-05 00:00:00   0.000          0.0  26.666667  21.666667   \n",
      "...                     ...     ...          ...        ...        ...   \n",
      "145455                    0   0.000          0.0   0.000000   0.000000   \n",
      "145456                    0   0.000          0.0   0.000000   0.000000   \n",
      "145457                    0   0.000          0.0   0.000000   0.000000   \n",
      "145458                    0   0.000          0.0   0.000000   0.000000   \n",
      "145459                    0   0.000          0.0   0.000000   0.000000   \n",
      "\n",
      "         MeanTemp   MO  PRCP   DR  SPD  ...  WindSpeed9am  WindSpeed3pm  \\\n",
      "0       23.888889  7.0  0.04  0.0  0.0  ...          20.0          24.0   \n",
      "1       25.555556  7.0  0.00  0.0  0.0  ...           4.0          22.0   \n",
      "2       24.444444  7.0  0.10  0.0  0.0  ...          19.0          26.0   \n",
      "3       24.444444  7.0  0.10  0.0  0.0  ...          11.0           9.0   \n",
      "4       24.444444  7.0  0.00  0.0  0.0  ...           7.0          20.0   \n",
      "...           ...  ...   ...  ...  ...  ...           ...           ...   \n",
      "145455   0.000000  0.0  0.00  0.0  0.0  ...          13.0          11.0   \n",
      "145456   0.000000  0.0  0.00  0.0  0.0  ...          13.0           9.0   \n",
      "145457   0.000000  0.0  0.00  0.0  0.0  ...           9.0           9.0   \n",
      "145458   0.000000  0.0  0.00  0.0  0.0  ...          13.0           7.0   \n",
      "145459   0.000000  0.0  0.00  0.0  0.0  ...          17.0          17.0   \n",
      "\n",
      "        Humidity9am  Humidity3pm  Pressure9am  Pressure3pm  Cloud9am  \\\n",
      "0              71.0         22.0       1007.7       1007.1       8.0   \n",
      "1              44.0         25.0       1010.6       1007.8       0.0   \n",
      "2              38.0         30.0       1007.6       1008.7       0.0   \n",
      "3              45.0         16.0       1017.6       1012.8       0.0   \n",
      "4              82.0         33.0       1010.8       1006.0       7.0   \n",
      "...             ...          ...          ...          ...       ...   \n",
      "145455         51.0         24.0       1024.6       1020.3       0.0   \n",
      "145456         56.0         21.0       1023.5       1019.1       0.0   \n",
      "145457         53.0         24.0       1021.0       1016.8       0.0   \n",
      "145458         51.0         24.0       1019.4       1016.5       3.0   \n",
      "145459         62.0         36.0       1020.2       1017.9       8.0   \n",
      "\n",
      "        Cloud3pm  Temp9am  Temp3pm  \n",
      "0            0.0     16.9     21.8  \n",
      "1            0.0     17.2     24.3  \n",
      "2            2.0     21.0     23.2  \n",
      "3            0.0     18.1     26.5  \n",
      "4            8.0     17.8     29.7  \n",
      "...          ...      ...      ...  \n",
      "145455       0.0     10.1     22.4  \n",
      "145456       0.0     10.9     24.5  \n",
      "145457       0.0     12.5     26.1  \n",
      "145458       2.0     15.1     26.0  \n",
      "145459       8.0     15.0     20.9  \n",
      "\n",
      "[145460 rows x 34 columns]\n"
     ]
    }
   ],
   "source": [
    "combined_df = pd.concat([summary_weather, weather_stations, weather_aus], axis=1)\n",
    "combined_df = combined_df.fillna(0)\n",
    "\n",
    "# for the models\n",
    "print(combined_df)\n",
    "print(gt_today)\n",
    "print(gt_tomorrow)"
   ]
  }
 ],
 "metadata": {
  "kernelspec": {
   "display_name": "base",
   "language": "python",
   "name": "python3"
  },
  "language_info": {
   "codemirror_mode": {
    "name": "ipython",
    "version": 3
   },
   "file_extension": ".py",
   "mimetype": "text/x-python",
   "name": "python",
   "nbconvert_exporter": "python",
   "pygments_lexer": "ipython3",
   "version": "3.11.4"
  }
 },
 "nbformat": 4,
 "nbformat_minor": 2
}
